{
 "cells": [
  {
   "cell_type": "markdown",
   "id": "15e8a4ac",
   "metadata": {},
   "source": [
    "# Analysis : Example\n",
    "\n",
    "----\n",
    "## Goal\n",
    "- show on a simple example the main uses of the analysis module for tabular data\n",
    "\n",
    "## Presentation of the example\n",
    "Let's take the example of a table containing the price of some fruits and vegetables.\n",
    "\n",
    "|product|plants   |plts |quantity|price|price level|group  |id   |supplier|location|valid|\n",
    "|:-----:|:-------:|:---:|:-----:|:----:|:---------:|:-----:|:---:|:------:|:------:|:---:|\n",
    "|apple  |fruit\t  |fr   |1 kg\t|1\t   |low        |fruit1 |1001 |sup1    |fr      |ok   |\n",
    "|apple  |fruit\t  |fr   |10 kg\t|10    |low        |fruit10|1002 |sup1    |gb      |ok   |\n",
    "|orange |fruit\t  |fr   |1 kg   |2     |high       |fruit1 |1003 |sup1    |es      |ok   |\n",
    "|orange |fruit\t  |fr   |10 kg\t|20\t   |high       |veget  |1004 |sup2    |ch      |ok   |\n",
    "|peppers|vegetable|ve   |1 kg\t|1.5   |low        |veget  |1005 |sup2    |gb      |ok   |\n",
    "|peppers|vegetable|ve   |10 kg  |15    |low        |veget  |1006 |sup2    |fr      |ok   |\n",
    "|carrot |vegetable|ve   |1 kg\t|1.5   |high       |veget  |1007 |sup2    |es      |ok   |\n",
    "|carrot |vegetable|ve   |10 kg\t|20    |high       |veget  |1008 |sup1    |ch      |ok   |\n",
    "\n",
    "\n",
    "The price is different depending on the product and the packaging of 1 or 10 kg."
   ]
  },
  {
   "cell_type": "code",
   "execution_count": 1,
   "id": "acfac615",
   "metadata": {},
   "outputs": [],
   "source": [
    "fruits = {'plants':      ['fruit', 'fruit', 'fruit', 'fruit', 'vegetable', 'vegetable', 'vegetable', 'vegetable'],\n",
    "          'plts':        ['fr', 'fr', 'fr', 'fr', 've', 've', 've', 've'], \n",
    "          'quantity':    ['1 kg', '10 kg', '1 kg', '10 kg', '1 kg', '10 kg', '1 kg', '10 kg'],\n",
    "          'product':     ['apple', 'apple', 'orange', 'orange', 'peppers', 'peppers', 'carrot', 'carrot'],\n",
    "          'price':       [1, 10, 2, 20, 1.5, 15, 1.5, 20],\n",
    "          'price level': ['low', 'low', 'high', 'high', 'low', 'low', 'high', 'high'],\n",
    "          'group':       ['fruit 1', 'fruit 10', 'fruit 1', 'veget', 'veget', 'veget', 'veget', 'veget'],\n",
    "          'id':          [1001, 1002, 1003, 1004, 1005, 1006, 1007, 1008],\n",
    "          'supplier':    [\"sup1\", \"sup1\", \"sup1\", \"sup2\", \"sup2\", \"sup2\", \"sup2\", \"sup1\"],\n",
    "          'location':    [\"fr\", \"gb\", \"es\", \"ch\", \"gb\", \"fr\", \"es\", \"ch\"],\n",
    "          'valid':       [\"ok\", \"ok\", \"ok\", \"ok\", \"ok\", \"ok\", \"ok\", \"ok\"]}"
   ]
  },
  {
   "cell_type": "code",
   "execution_count": 2,
   "id": "020d0997",
   "metadata": {},
   "outputs": [],
   "source": [
    "import pandas as pd\n",
    "import ntv_pandas as npd\n",
    "\n",
    "dts = pd.DataFrame(fruits)\n",
    "adts = dts.npd.analysis(distr=True)"
   ]
  },
  {
   "cell_type": "markdown",
   "id": "2fa3a16f",
   "metadata": {},
   "source": [
    "## Relationship\n",
    "Three kind of relationships are present:\n",
    "- coupled : each 'plants' value corresponds to one 'plts' value\n",
    "- derived : each 'product' value is associated to one 'plants' value\n",
    "- crossed : each 'quantity' value is associated to each 'product' value"
   ]
  },
  {
   "cell_type": "code",
   "execution_count": 3,
   "id": "52c868e5",
   "metadata": {},
   "outputs": [
    {
     "name": "stdout",
     "output_type": "stream",
     "text": [
      "coupled\n",
      "derived\n",
      "crossed\n"
     ]
    }
   ],
   "source": [
    "print(adts.get_relation('plants', 'plts').typecoupl)\n",
    "print(adts.get_relation('plants', 'product').typecoupl)\n",
    "print(adts.get_relation('quantity', 'product').typecoupl)\n"
   ]
  },
  {
   "cell_type": "markdown",
   "id": "57c3c1fb",
   "metadata": {},
   "source": [
    "A relationship can be quantified by a notion of distance (number of codec links to change to be coupled). \n",
    "\n",
    "If a relation is coupled, the distance is null.\n",
    "The maximal distance is the Fields length minus one"
   ]
  },
  {
   "cell_type": "code",
   "execution_count": 4,
   "id": "f1fca268",
   "metadata": {},
   "outputs": [
    {
     "name": "stdout",
     "output_type": "stream",
     "text": [
      "minimum distance:  0\n",
      "maximum distance:  7\n",
      "intermediate distance:  2\n"
     ]
    }
   ],
   "source": [
    "print('minimum distance: ', adts.get_relation('plants', 'plts').distance)\n",
    "print('maximum distance: ', adts.get_relation('id', 'valid').distance)\n",
    "print('intermediate distance: ', adts.get_relation('plants', 'product').distance)\n",
    "# The 'plants' - 'product' relationship will be 'coupled' if we change, for example, \n",
    "#'fruit-orange' in 'citrus-orange' and 'carrot-vegetable' in 'carrot-root vegetable' (2 changes)  "
   ]
  },
  {
   "cell_type": "markdown",
   "id": "7f51686d",
   "metadata": {},
   "source": [
    "## Fields\n",
    "Each field has a category based on its relationships with other fields:\n",
    "- rooted : Fields coupled with the root Field\n",
    "- unique : Fields with a single value\n",
    "- coupled : Fields coupled with another Field\n",
    "- derived : Fields without derived child\n",
    "- mixed : other Fields"
   ]
  },
  {
   "cell_type": "code",
   "execution_count": 5,
   "id": "7f6c596d",
   "metadata": {
    "scrolled": true
   },
   "outputs": [
    {
     "name": "stdout",
     "output_type": "stream",
     "text": [
      "{'plants': 'derived', 'plts': 'coupled', 'quantity': 'derived', 'product': 'mixed', 'price': 'mixed', 'price level': 'derived', 'group': 'derived', 'id': 'rooted', 'supplier': 'derived', 'location': 'mixed', 'valid': 'unique'}\n"
     ]
    }
   ],
   "source": [
    "# list of categories for each Field\n",
    "print({field.idfield: category for field, category in zip(adts.fields, adts.category)})"
   ]
  },
  {
   "cell_type": "markdown",
   "id": "efc46d69",
   "metadata": {},
   "source": [
    "## Tree\n",
    "A Dataset can be represented with a Field tree where each Field has a parent Field.\n",
    "The parent Field is the derived Field with a minimal 'distance'"
   ]
  },
  {
   "cell_type": "code",
   "execution_count": 6,
   "id": "197a7599",
   "metadata": {
    "scrolled": true
   },
   "outputs": [
    {
     "name": "stdout",
     "output_type": "stream",
     "text": [
      "-1: root-derived (8)\n",
      "   3 : product (4 - 4)\n",
      "      0 : plants (2 - 2)\n",
      "         1 : plts (0 - 2)\n",
      "      5 : price level (2 - 2)\n",
      "   4 : price (2 - 6)\n",
      "      2 : quantity (4 - 2)\n",
      "      6 : group (3 - 3)\n",
      "   7 : id (0 - 8)\n",
      "   8 : supplier (6 - 2)\n",
      "   9 : location (4 - 4)\n",
      "   10: valid (7 - 1)\n"
     ]
    }
   ],
   "source": [
    "print(adts.tree())"
   ]
  },
  {
   "cell_type": "markdown",
   "id": "0a80dc15",
   "metadata": {},
   "source": [
    "## Partitions\n",
    "A partition is a minimum list of Field where combinations are all different in the dataset."
   ]
  },
  {
   "cell_type": "code",
   "execution_count": 7,
   "id": "a39b26b6",
   "metadata": {},
   "outputs": [
    {
     "data": {
      "text/plain": [
       "[['plants', 'price level', 'quantity'],\n",
       " ['price level', 'quantity', 'supplier'],\n",
       " ['location', 'plants'],\n",
       " ['location', 'supplier'],\n",
       " ['product', 'quantity'],\n",
       " ['id']]"
      ]
     },
     "execution_count": 7,
     "metadata": {},
     "output_type": "execute_result"
    }
   ],
   "source": [
    "adts.partitions(mode='id')"
   ]
  },
  {
   "cell_type": "markdown",
   "id": "e4239fd9",
   "metadata": {},
   "source": [
    "The dimension of a Dataset is the highest size of a partition."
   ]
  },
  {
   "cell_type": "code",
   "execution_count": 8,
   "id": "f8e03dc7",
   "metadata": {},
   "outputs": [
    {
     "data": {
      "text/plain": [
       "3"
      ]
     },
     "execution_count": 8,
     "metadata": {},
     "output_type": "execute_result"
    }
   ],
   "source": [
    "adts.dimension"
   ]
  },
  {
   "cell_type": "markdown",
   "id": "ba44318f",
   "metadata": {},
   "source": [
    "The Dataset is composed for a partition of:\n",
    "- primary: partition fields\n",
    "- secondary: fields derived from or coupled to primary fields\n",
    "- unique: unique fields\n",
    "- variable: other fields\n"
   ]
  },
  {
   "cell_type": "code",
   "execution_count": 9,
   "id": "6a8aacbb",
   "metadata": {},
   "outputs": [
    {
     "data": {
      "text/plain": [
       "{'primary': ['plants', 'quantity', 'price level'],\n",
       " 'secondary': ['plts'],\n",
       " 'mixte': ['product'],\n",
       " 'unique': ['valid'],\n",
       " 'variable': ['price', 'group', 'id', 'supplier', 'location']}"
      ]
     },
     "execution_count": 9,
     "metadata": {},
     "output_type": "execute_result"
    }
   ],
   "source": [
    "adts.field_partition(mode='id') #first partition"
   ]
  },
  {
   "cell_type": "code",
   "execution_count": 10,
   "id": "cc185ef8-fa0b-4e7d-90e7-a4bb3d088155",
   "metadata": {},
   "outputs": [
    {
     "data": {
      "text/plain": [
       "{'plants': ['plants'],\n",
       " 'quantity': ['quantity'],\n",
       " 'price level': ['price level'],\n",
       " 'plts': ['plants'],\n",
       " 'product': ['plants', 'price level'],\n",
       " 'valid': [],\n",
       " 'price': ['plants', 'quantity', 'price level'],\n",
       " 'group': ['plants', 'quantity', 'price level'],\n",
       " 'id': ['plants', 'quantity', 'price level'],\n",
       " 'supplier': ['plants', 'quantity', 'price level'],\n",
       " 'location': ['plants', 'quantity', 'price level']}"
      ]
     },
     "execution_count": 10,
     "metadata": {},
     "output_type": "execute_result"
    }
   ],
   "source": [
    "adts.relation_partition()"
   ]
  },
  {
   "cell_type": "code",
   "execution_count": 11,
   "id": "3bf0fae3",
   "metadata": {
    "scrolled": true
   },
   "outputs": [
    {
     "data": {
      "text/plain": [
       "{'primary': ['product', 'quantity'],\n",
       " 'secondary': ['plants', 'plts', 'price level'],\n",
       " 'mixte': [],\n",
       " 'unique': ['valid'],\n",
       " 'variable': ['price', 'group', 'id', 'supplier', 'location']}"
      ]
     },
     "execution_count": 11,
     "metadata": {},
     "output_type": "execute_result"
    }
   ],
   "source": [
    "adts.field_partition(mode='id', partition=['product', 'quantity'])"
   ]
  },
  {
   "cell_type": "code",
   "execution_count": 12,
   "id": "505e046f-17fe-4bbd-9ebb-6d8a740acf7d",
   "metadata": {},
   "outputs": [
    {
     "data": {
      "text/plain": [
       "{'product': ['product'],\n",
       " 'quantity': ['quantity'],\n",
       " 'plants': ['product'],\n",
       " 'plts': ['plants'],\n",
       " 'price level': ['product'],\n",
       " 'valid': [],\n",
       " 'price': ['product', 'quantity'],\n",
       " 'group': ['product', 'quantity'],\n",
       " 'id': ['product', 'quantity'],\n",
       " 'supplier': ['product', 'quantity'],\n",
       " 'location': ['product', 'quantity']}"
      ]
     },
     "execution_count": 12,
     "metadata": {},
     "output_type": "execute_result"
    }
   ],
   "source": [
    "adts.relation_partition(partition=['product', 'quantity'])"
   ]
  },
  {
   "cell_type": "markdown",
   "id": "a2596b29",
   "metadata": {},
   "source": [
    "## Use of Partitions\n",
    "For a partition, a Dataset can be converted into a multi-dimensional entity. "
   ]
  },
  {
   "cell_type": "code",
   "execution_count": 13,
   "id": "1147fa27-94cd-4157-a298-085ba919367a",
   "metadata": {},
   "outputs": [
    {
     "ename": "SyntaxError",
     "evalue": "invalid syntax (xconnector.py, line 263)",
     "output_type": "error",
     "traceback": [
      "Traceback \u001b[1;36m(most recent call last)\u001b[0m:\n",
      "  File \u001b[0;32m\"C:\\Users\\phili\\anaconda3\\envs\\observ_v10_20240111\\lib\\site-packages\\IPython\\core\\interactiveshell.py\"\u001b[0m, line \u001b[0;32m3457\u001b[0m, in \u001b[0;35mrun_code\u001b[0m\n    exec(code_obj, self.user_global_ns, self.user_ns)\n",
      "  File \u001b[0;32m\"C:\\Users\\phili\\AppData\\Local\\Temp\\ipykernel_3344\\353282465.py\"\u001b[0m, line \u001b[0;32m1\u001b[0m, in \u001b[0;35m<module>\u001b[0m\n    from ntv_numpy import Xdataset\n",
      "  File \u001b[0;32m\"C:\\Users\\phili\\github\\ntv-numpy\\ntv_numpy\\__init__.py\"\u001b[0m, line \u001b[0;32m41\u001b[0m, in \u001b[0;35m<module>\u001b[0m\n    from ntv_numpy.numpy_ntv_connector import XndarrayConnec, NdarrayConnec #, read_json, to_json\n",
      "  File \u001b[0;32m\"C:\\Users\\phili\\github\\ntv-numpy\\ntv_numpy\\numpy_ntv_connector.py\"\u001b[0m, line \u001b[0;32m25\u001b[0m, in \u001b[0;35m<module>\u001b[0m\n    from ntv_numpy.xdataset import Xdataset\n",
      "\u001b[1;36m  File \u001b[1;32m\"C:\\Users\\phili\\github\\ntv-numpy\\ntv_numpy\\xdataset.py\"\u001b[1;36m, line \u001b[1;32m13\u001b[1;36m, in \u001b[1;35m<module>\u001b[1;36m\u001b[0m\n\u001b[1;33m    from ntv_numpy.xconnector import XarrayConnec, ScippConnec, AstropyNDDataConnec\u001b[0m\n",
      "\u001b[1;36m  File \u001b[1;32m\"C:\\Users\\phili\\github\\ntv-numpy\\ntv_numpy\\xconnector.py\"\u001b[1;36m, line \u001b[1;32m263\u001b[0m\n\u001b[1;33m    shape), old_order, order)[*idx]\u001b[0m\n\u001b[1;37m                              ^\u001b[0m\n\u001b[1;31mSyntaxError\u001b[0m\u001b[1;31m:\u001b[0m invalid syntax\n"
     ]
    }
   ],
   "source": [
    "from ntv_numpy import Xdataset\n",
    "\n",
    "xdt = Xdataset.from_dataframe(dts) # Xdataset is a neutral format\n",
    "xdt.to_xarray(json_name=False)"
   ]
  },
  {
   "cell_type": "code",
   "execution_count": null,
   "id": "49ab3bb4",
   "metadata": {},
   "outputs": [],
   "source": [
    "xdt = Xdataset.from_dataframe(dts, dims=['product', 'quantity'])\n",
    "xdt.to_xarray(idxname=['product', 'quantity'])"
   ]
  }
 ],
 "metadata": {
  "kernelspec": {
   "display_name": "Python 3 (ipykernel)",
   "language": "python",
   "name": "python3"
  },
  "language_info": {
   "codemirror_mode": {
    "name": "ipython",
    "version": 3
   },
   "file_extension": ".py",
   "mimetype": "text/x-python",
   "name": "python",
   "nbconvert_exporter": "python",
   "pygments_lexer": "ipython3",
   "version": "3.10.9"
  }
 },
 "nbformat": 4,
 "nbformat_minor": 5
}

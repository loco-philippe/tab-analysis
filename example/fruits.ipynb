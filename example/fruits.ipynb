{
 "cells": [
  {
   "cell_type": "markdown",
   "id": "15e8a4ac",
   "metadata": {},
   "source": [
    "# Analysis : Example\n",
    "\n",
    "----\n",
    "## Goal\n",
    "- show on a simple example the capacities of analysis of tabular data\n",
    "\n",
    "## Presentation of the example\n",
    "The example describe the tool's ability to understand and modify a data structure.\n",
    "\n",
    "Let's take the example of a csv file containing the price of some fruits and vegetables.\n",
    "\n",
    "|product|plants   |plts |quantity|price|price level|group  |id   |supplier|location|valid|\n",
    "|:-----:|:-------:|:---:|:-----:|:----:|:---------:|:-----:|:---:|:------:|:------:|:---:|\n",
    "|apple  |fruit\t  |fr   |1 kg\t|1\t   |low        |fruit1 |1001 |sup1    |fr      |ok   |\n",
    "|apple  |fruit\t  |fr   |10 kg\t|10    |low        |fruit10|1002 |sup1    |gb      |ok   |\n",
    "|orange |fruit\t  |fr   |1 kg   |2     |high       |fruit1 |1003 |sup1    |es      |ok   |\n",
    "|orange |fruit\t  |fr   |10 kg\t|20\t   |high       |veget  |1004 |sup2    |ch      |ok   |\n",
    "|peppers|vegetable|ve   |1 kg\t|1.5   |low        |veget  |1005 |sup2    |gb      |ok   |\n",
    "|peppers|vegetable|ve   |10 kg  |15    |low        |veget  |1006 |sup2    |fr      |ok   |\n",
    "|carrot |vegetable|ve   |1 kg\t|1.5   |high       |veget  |1007 |sup2    |es      |ok   |\n",
    "|carrot |vegetable|ve   |10 kg\t|20    |high       |veget  |1008 |sup1    |ch      |ok   |\n",
    "\n",
    "The price is different depending on the product and the packaging of 1 or 10 kg.\n"
   ]
  },
  {
   "cell_type": "code",
   "execution_count": 1,
   "id": "acfac615",
   "metadata": {},
   "outputs": [],
   "source": [
    "fruits = {'plants':      ['fruit', 'fruit', 'fruit', 'fruit', 'vegetable', 'vegetable', 'vegetable', 'vegetable'],\n",
    "          'plts':        ['fr', 'fr', 'fr', 'fr', 've', 've', 've', 've'], \n",
    "          'quantity':    ['1 kg', '10 kg', '1 kg', '10 kg', '1 kg', '10 kg', '1 kg', '10 kg'],\n",
    "          'product':     ['apple', 'apple', 'orange', 'orange', 'peppers', 'peppers', 'carrot', 'carrot'],\n",
    "          'price':       [1, 10, 2, 20, 1.5, 15, 1.5, 20],\n",
    "          'price level': ['low', 'low', 'high', 'high', 'low', 'low', 'high', 'high'],\n",
    "          'group':       ['fruit 1', 'fruit 10', 'fruit 1', 'veget', 'veget', 'veget', 'veget', 'veget'],\n",
    "          'id':          [1001, 1002, 1003, 1004, 1005, 1006, 1007, 1008],\n",
    "          'supplier':    [\"sup1\", \"sup1\", \"sup1\", \"sup2\", \"sup2\", \"sup2\", \"sup2\", \"sup1\"],\n",
    "          'location':    [\"fr\", \"gb\", \"es\", \"ch\", \"gb\", \"fr\", \"es\", \"ch\"],\n",
    "          'valid':       [\"ok\", \"ok\", \"ok\", \"ok\", \"ok\", \"ok\", \"ok\", \"ok\"]}"
   ]
  },
  {
   "cell_type": "code",
   "execution_count": 3,
   "id": "020d0997",
   "metadata": {},
   "outputs": [],
   "source": [
    "from tab_analysis import AnaDataset\n",
    "from tab_dataset import Cdataset\n",
    "adts = AnaDataset(Cdataset.ntv(fruits).to_analysis())"
   ]
  }
 ],
 "metadata": {
  "kernelspec": {
   "display_name": "Python 3 (ipykernel)",
   "language": "python",
   "name": "python3"
  },
  "language_info": {
   "codemirror_mode": {
    "name": "ipython",
    "version": 3
   },
   "file_extension": ".py",
   "mimetype": "text/x-python",
   "name": "python",
   "nbconvert_exporter": "python",
   "pygments_lexer": "ipython3",
   "version": "3.10.9"
  }
 },
 "nbformat": 4,
 "nbformat_minor": 5
}

{
 "cells": [
  {
   "cell_type": "markdown",
   "id": "15e8a4ac",
   "metadata": {},
   "source": [
    "# Analysis : Example\n",
    "\n",
    "----\n",
    "## Goal\n",
    "- show on a simple example the capacities of analysis of tabular data\n",
    "\n",
    "## Presentation of the example\n",
    "The example describe the tool's ability to understand and modify a data structure.\n",
    "\n",
    "Let's take the example of a csv file containing the price of some fruits and vegetables.\n",
    "\n",
    "|product|plants   |plts |quantity|price|price level|group  |id   |supplier|location|valid|\n",
    "|:-----:|:-------:|:---:|:-----:|:----:|:---------:|:-----:|:---:|:------:|:------:|:---:|\n",
    "|apple  |fruit\t  |fr   |1 kg\t|1\t   |low        |fruit1 |1001 |sup1    |fr      |ok   |\n",
    "|apple  |fruit\t  |fr   |10 kg\t|10    |low        |fruit10|1002 |sup1    |gb      |ok   |\n",
    "|orange |fruit\t  |fr   |1 kg   |2     |high       |fruit1 |1003 |sup1    |es      |ok   |\n",
    "|orange |fruit\t  |fr   |10 kg\t|20\t   |high       |veget  |1004 |sup2    |ch      |ok   |\n",
    "|peppers|vegetable|ve   |1 kg\t|1.5   |low        |veget  |1005 |sup2    |gb      |ok   |\n",
    "|peppers|vegetable|ve   |10 kg  |15    |low        |veget  |1006 |sup2    |fr      |ok   |\n",
    "|carrot |vegetable|ve   |1 kg\t|1.5   |high       |veget  |1007 |sup2    |es      |ok   |\n",
    "|carrot |vegetable|ve   |10 kg\t|20    |high       |veget  |1008 |sup1    |ch      |ok   |\n",
    "\n",
    "The price is different depending on the product and the packaging of 1 or 10 kg.\n"
   ]
  },
  {
   "cell_type": "code",
   "execution_count": 1,
   "id": "acfac615",
   "metadata": {},
   "outputs": [],
   "source": [
    "fruits = {'plants':      ['fruit', 'fruit', 'fruit', 'fruit', 'vegetable', 'vegetable', 'vegetable', 'vegetable'],\n",
    "          'plts':        ['fr', 'fr', 'fr', 'fr', 've', 've', 've', 've'], \n",
    "          'quantity':    ['1 kg', '10 kg', '1 kg', '10 kg', '1 kg', '10 kg', '1 kg', '10 kg'],\n",
    "          'product':     ['apple', 'apple', 'orange', 'orange', 'peppers', 'peppers', 'carrot', 'carrot'],\n",
    "          'price':       [1, 10, 2, 20, 1.5, 15, 1.5, 20],\n",
    "          'price level': ['low', 'low', 'high', 'high', 'low', 'low', 'high', 'high'],\n",
    "          'group':       ['fruit 1', 'fruit 10', 'fruit 1', 'veget', 'veget', 'veget', 'veget', 'veget'],\n",
    "          'id':          [1001, 1002, 1003, 1004, 1005, 1006, 1007, 1008],\n",
    "          'supplier':    [\"sup1\", \"sup1\", \"sup1\", \"sup2\", \"sup2\", \"sup2\", \"sup2\", \"sup1\"],\n",
    "          'location':    [\"fr\", \"gb\", \"es\", \"ch\", \"gb\", \"fr\", \"es\", \"ch\"],\n",
    "          'valid':       [\"ok\", \"ok\", \"ok\", \"ok\", \"ok\", \"ok\", \"ok\", \"ok\"]}"
   ]
  },
  {
   "cell_type": "code",
   "execution_count": 2,
   "id": "020d0997",
   "metadata": {},
   "outputs": [],
   "source": [
    "from tab_dataset import Sdataset\n",
    "dts = Sdataset.ntv(fruits)\n",
    "adts = dts.analysis"
   ]
  },
  {
   "cell_type": "markdown",
   "id": "2fa3a16f",
   "metadata": {},
   "source": [
    "## Relationship\n",
    "Three kind of relationship are present:\n",
    "- coupled : each 'plants' value corresponds to one 'plts' value\n",
    "- derived : each 'product' value is associated to one 'plants' value\n",
    "- crossed : each 'quantity' value is associated to each 'product' value"
   ]
  },
  {
   "cell_type": "code",
   "execution_count": 3,
   "id": "52c868e5",
   "metadata": {},
   "outputs": [
    {
     "name": "stdout",
     "output_type": "stream",
     "text": [
      "coupled\n",
      "derived\n",
      "crossed\n"
     ]
    }
   ],
   "source": [
    "print(adts.get_relation('plants', 'plts').typecoupl)\n",
    "print(adts.get_relation('plants', 'product').typecoupl)\n",
    "print(adts.get_relation('quantity', 'product').typecoupl)\n"
   ]
  },
  {
   "cell_type": "markdown",
   "id": "57c3c1fb",
   "metadata": {},
   "source": [
    "A relationship can be quantified by a notion of distance (number of codec links to change to be coupled). \n",
    "\n",
    "If a relation is coupled, the distance is null.\n",
    "The maximal distance is the Fields length minus one"
   ]
  },
  {
   "cell_type": "code",
   "execution_count": 4,
   "id": "94783c96",
   "metadata": {},
   "outputs": [
    {
     "name": "stdout",
     "output_type": "stream",
     "text": [
      "minimum distance:  0\n",
      "maximum distance:  7\n",
      "intermediate distance:  2\n"
     ]
    }
   ],
   "source": [
    "print('minimum distance: ', adts.get_relation('plants', 'plts').distance)\n",
    "print('maximum distance: ', adts.get_relation('id', 'valid').distance)\n",
    "print('intermediate distance: ', adts.get_relation('plants', 'product').distance)"
   ]
  },
  {
   "cell_type": "markdown",
   "id": "7f51686d",
   "metadata": {},
   "source": [
    "## Fields\n",
    "Each field has a category based on its relationships with other fields:\n",
    "- rooted : Fields coupled with the root Field\n",
    "- unique : Fields with a single value\n",
    "- coupled : Fields coupled with another Field\n",
    "- derived : Fields without derived child\n",
    "- mixed : other Fields"
   ]
  },
  {
   "cell_type": "code",
   "execution_count": 5,
   "id": "7f6c596d",
   "metadata": {
    "scrolled": true
   },
   "outputs": [
    {
     "name": "stdout",
     "output_type": "stream",
     "text": [
      "['derived', 'coupled', 'derived', 'mixed', 'mixed', 'derived', 'derived', 'rooted', 'derived', 'mixed', 'unique']\n"
     ]
    }
   ],
   "source": [
    "# list of categories for each Field\n",
    "print(adts.category)"
   ]
  },
  {
   "cell_type": "markdown",
   "id": "efc46d69",
   "metadata": {},
   "source": [
    "## Tree\n",
    "A Dataset can be represented with a Field tree where each Field has a parent Field.\n",
    "The parent Field is the derived Field with a minimal 'distance'"
   ]
  },
  {
   "cell_type": "code",
   "execution_count": 6,
   "id": "197a7599",
   "metadata": {
    "scrolled": true
   },
   "outputs": [
    {
     "name": "stdout",
     "output_type": "stream",
     "text": [
      "-1: root-derived (8)\n",
      "   3 : product (4 - 4)\n",
      "      0 : plants (2 - 2)\n",
      "         1 : plts (0 - 2)\n",
      "      5 : price level (2 - 2)\n",
      "   4 : price (2 - 6)\n",
      "      2 : quantity (4 - 2)\n",
      "      6 : group (3 - 3)\n",
      "   7 : id (0 - 8)\n",
      "   8 : supplier (6 - 2)\n",
      "   9 : location (4 - 4)\n",
      "   10: valid (7 - 1)\n"
     ]
    }
   ],
   "source": [
    "print(adts.tree())"
   ]
  },
  {
   "cell_type": "markdown",
   "id": "8963da48",
   "metadata": {},
   "source": [
    "## Partitions\n",
    "A partition is a minimum list of Field where combinations are all different in the dataset."
   ]
  },
  {
   "cell_type": "code",
   "execution_count": 7,
   "id": "f88792cc",
   "metadata": {
    "scrolled": false
   },
   "outputs": [
    {
     "data": {
      "text/plain": [
       "[['plants', 'price level', 'quantity'],\n",
       " ['price level', 'quantity', 'supplier'],\n",
       " ['location', 'plants'],\n",
       " ['location', 'supplier'],\n",
       " ['product', 'quantity'],\n",
       " ['id']]"
      ]
     },
     "execution_count": 7,
     "metadata": {},
     "output_type": "execute_result"
    }
   ],
   "source": [
    "adts.partitions(mode='id')"
   ]
  },
  {
   "cell_type": "code",
   "execution_count": 8,
   "id": "8e16f44c",
   "metadata": {},
   "outputs": [
    {
     "data": {
      "text/plain": [
       "{'primary': ['plants', 'quantity', 'price level'],\n",
       " 'secondary': ['plts'],\n",
       " 'unique': ['valid'],\n",
       " 'variable': ['product', 'price', 'group', 'id', 'supplier', 'location']}"
      ]
     },
     "execution_count": 8,
     "metadata": {},
     "output_type": "execute_result"
    }
   ],
   "source": [
    "adts.field_partition(mode='id')"
   ]
  },
  {
   "cell_type": "code",
   "execution_count": 9,
   "id": "1d2911aa",
   "metadata": {},
   "outputs": [
    {
     "name": "stdout",
     "output_type": "stream",
     "text": [
      "[[['apple' 'orange']\n",
      "  ['apple' 'orange']]\n",
      "\n",
      " [['peppers' 'carrot']\n",
      "  ['peppers' 'carrot']]] {'plants': array(['fruit', 'vegetable'], dtype=object), 'quantity': array(['1 kg', '10 kg'], dtype=object), 'price level': array(['low', 'high'], dtype=object), 'plts': ('plants', array(['fr', 've'], dtype=object))} ['plants', 'quantity', 'price level'] {'valid': 'ok'} product\n"
     ]
    },
    {
     "data": {
      "text/html": [
       "<div><svg style=\"position: absolute; width: 0; height: 0; overflow: hidden\">\n",
       "<defs>\n",
       "<symbol id=\"icon-database\" viewBox=\"0 0 32 32\">\n",
       "<path d=\"M16 0c-8.837 0-16 2.239-16 5v4c0 2.761 7.163 5 16 5s16-2.239 16-5v-4c0-2.761-7.163-5-16-5z\"></path>\n",
       "<path d=\"M16 17c-8.837 0-16-2.239-16-5v6c0 2.761 7.163 5 16 5s16-2.239 16-5v-6c0 2.761-7.163 5-16 5z\"></path>\n",
       "<path d=\"M16 26c-8.837 0-16-2.239-16-5v6c0 2.761 7.163 5 16 5s16-2.239 16-5v-6c0 2.761-7.163 5-16 5z\"></path>\n",
       "</symbol>\n",
       "<symbol id=\"icon-file-text2\" viewBox=\"0 0 32 32\">\n",
       "<path d=\"M28.681 7.159c-0.694-0.947-1.662-2.053-2.724-3.116s-2.169-2.030-3.116-2.724c-1.612-1.182-2.393-1.319-2.841-1.319h-15.5c-1.378 0-2.5 1.121-2.5 2.5v27c0 1.378 1.122 2.5 2.5 2.5h23c1.378 0 2.5-1.122 2.5-2.5v-19.5c0-0.448-0.137-1.23-1.319-2.841zM24.543 5.457c0.959 0.959 1.712 1.825 2.268 2.543h-4.811v-4.811c0.718 0.556 1.584 1.309 2.543 2.268zM28 29.5c0 0.271-0.229 0.5-0.5 0.5h-23c-0.271 0-0.5-0.229-0.5-0.5v-27c0-0.271 0.229-0.5 0.5-0.5 0 0 15.499-0 15.5 0v7c0 0.552 0.448 1 1 1h7v19.5z\"></path>\n",
       "<path d=\"M23 26h-14c-0.552 0-1-0.448-1-1s0.448-1 1-1h14c0.552 0 1 0.448 1 1s-0.448 1-1 1z\"></path>\n",
       "<path d=\"M23 22h-14c-0.552 0-1-0.448-1-1s0.448-1 1-1h14c0.552 0 1 0.448 1 1s-0.448 1-1 1z\"></path>\n",
       "<path d=\"M23 18h-14c-0.552 0-1-0.448-1-1s0.448-1 1-1h14c0.552 0 1 0.448 1 1s-0.448 1-1 1z\"></path>\n",
       "</symbol>\n",
       "</defs>\n",
       "</svg>\n",
       "<style>/* CSS stylesheet for displaying xarray objects in jupyterlab.\n",
       " *\n",
       " */\n",
       "\n",
       ":root {\n",
       "  --xr-font-color0: var(--jp-content-font-color0, rgba(0, 0, 0, 1));\n",
       "  --xr-font-color2: var(--jp-content-font-color2, rgba(0, 0, 0, 0.54));\n",
       "  --xr-font-color3: var(--jp-content-font-color3, rgba(0, 0, 0, 0.38));\n",
       "  --xr-border-color: var(--jp-border-color2, #e0e0e0);\n",
       "  --xr-disabled-color: var(--jp-layout-color3, #bdbdbd);\n",
       "  --xr-background-color: var(--jp-layout-color0, white);\n",
       "  --xr-background-color-row-even: var(--jp-layout-color1, white);\n",
       "  --xr-background-color-row-odd: var(--jp-layout-color2, #eeeeee);\n",
       "}\n",
       "\n",
       "html[theme=dark],\n",
       "body[data-theme=dark],\n",
       "body.vscode-dark {\n",
       "  --xr-font-color0: rgba(255, 255, 255, 1);\n",
       "  --xr-font-color2: rgba(255, 255, 255, 0.54);\n",
       "  --xr-font-color3: rgba(255, 255, 255, 0.38);\n",
       "  --xr-border-color: #1F1F1F;\n",
       "  --xr-disabled-color: #515151;\n",
       "  --xr-background-color: #111111;\n",
       "  --xr-background-color-row-even: #111111;\n",
       "  --xr-background-color-row-odd: #313131;\n",
       "}\n",
       "\n",
       ".xr-wrap {\n",
       "  display: block !important;\n",
       "  min-width: 300px;\n",
       "  max-width: 700px;\n",
       "}\n",
       "\n",
       ".xr-text-repr-fallback {\n",
       "  /* fallback to plain text repr when CSS is not injected (untrusted notebook) */\n",
       "  display: none;\n",
       "}\n",
       "\n",
       ".xr-header {\n",
       "  padding-top: 6px;\n",
       "  padding-bottom: 6px;\n",
       "  margin-bottom: 4px;\n",
       "  border-bottom: solid 1px var(--xr-border-color);\n",
       "}\n",
       "\n",
       ".xr-header > div,\n",
       ".xr-header > ul {\n",
       "  display: inline;\n",
       "  margin-top: 0;\n",
       "  margin-bottom: 0;\n",
       "}\n",
       "\n",
       ".xr-obj-type,\n",
       ".xr-array-name {\n",
       "  margin-left: 2px;\n",
       "  margin-right: 10px;\n",
       "}\n",
       "\n",
       ".xr-obj-type {\n",
       "  color: var(--xr-font-color2);\n",
       "}\n",
       "\n",
       ".xr-sections {\n",
       "  padding-left: 0 !important;\n",
       "  display: grid;\n",
       "  grid-template-columns: 150px auto auto 1fr 20px 20px;\n",
       "}\n",
       "\n",
       ".xr-section-item {\n",
       "  display: contents;\n",
       "}\n",
       "\n",
       ".xr-section-item input {\n",
       "  display: none;\n",
       "}\n",
       "\n",
       ".xr-section-item input + label {\n",
       "  color: var(--xr-disabled-color);\n",
       "}\n",
       "\n",
       ".xr-section-item input:enabled + label {\n",
       "  cursor: pointer;\n",
       "  color: var(--xr-font-color2);\n",
       "}\n",
       "\n",
       ".xr-section-item input:enabled + label:hover {\n",
       "  color: var(--xr-font-color0);\n",
       "}\n",
       "\n",
       ".xr-section-summary {\n",
       "  grid-column: 1;\n",
       "  color: var(--xr-font-color2);\n",
       "  font-weight: 500;\n",
       "}\n",
       "\n",
       ".xr-section-summary > span {\n",
       "  display: inline-block;\n",
       "  padding-left: 0.5em;\n",
       "}\n",
       "\n",
       ".xr-section-summary-in:disabled + label {\n",
       "  color: var(--xr-font-color2);\n",
       "}\n",
       "\n",
       ".xr-section-summary-in + label:before {\n",
       "  display: inline-block;\n",
       "  content: '►';\n",
       "  font-size: 11px;\n",
       "  width: 15px;\n",
       "  text-align: center;\n",
       "}\n",
       "\n",
       ".xr-section-summary-in:disabled + label:before {\n",
       "  color: var(--xr-disabled-color);\n",
       "}\n",
       "\n",
       ".xr-section-summary-in:checked + label:before {\n",
       "  content: '▼';\n",
       "}\n",
       "\n",
       ".xr-section-summary-in:checked + label > span {\n",
       "  display: none;\n",
       "}\n",
       "\n",
       ".xr-section-summary,\n",
       ".xr-section-inline-details {\n",
       "  padding-top: 4px;\n",
       "  padding-bottom: 4px;\n",
       "}\n",
       "\n",
       ".xr-section-inline-details {\n",
       "  grid-column: 2 / -1;\n",
       "}\n",
       "\n",
       ".xr-section-details {\n",
       "  display: none;\n",
       "  grid-column: 1 / -1;\n",
       "  margin-bottom: 5px;\n",
       "}\n",
       "\n",
       ".xr-section-summary-in:checked ~ .xr-section-details {\n",
       "  display: contents;\n",
       "}\n",
       "\n",
       ".xr-array-wrap {\n",
       "  grid-column: 1 / -1;\n",
       "  display: grid;\n",
       "  grid-template-columns: 20px auto;\n",
       "}\n",
       "\n",
       ".xr-array-wrap > label {\n",
       "  grid-column: 1;\n",
       "  vertical-align: top;\n",
       "}\n",
       "\n",
       ".xr-preview {\n",
       "  color: var(--xr-font-color3);\n",
       "}\n",
       "\n",
       ".xr-array-preview,\n",
       ".xr-array-data {\n",
       "  padding: 0 5px !important;\n",
       "  grid-column: 2;\n",
       "}\n",
       "\n",
       ".xr-array-data,\n",
       ".xr-array-in:checked ~ .xr-array-preview {\n",
       "  display: none;\n",
       "}\n",
       "\n",
       ".xr-array-in:checked ~ .xr-array-data,\n",
       ".xr-array-preview {\n",
       "  display: inline-block;\n",
       "}\n",
       "\n",
       ".xr-dim-list {\n",
       "  display: inline-block !important;\n",
       "  list-style: none;\n",
       "  padding: 0 !important;\n",
       "  margin: 0;\n",
       "}\n",
       "\n",
       ".xr-dim-list li {\n",
       "  display: inline-block;\n",
       "  padding: 0;\n",
       "  margin: 0;\n",
       "}\n",
       "\n",
       ".xr-dim-list:before {\n",
       "  content: '(';\n",
       "}\n",
       "\n",
       ".xr-dim-list:after {\n",
       "  content: ')';\n",
       "}\n",
       "\n",
       ".xr-dim-list li:not(:last-child):after {\n",
       "  content: ',';\n",
       "  padding-right: 5px;\n",
       "}\n",
       "\n",
       ".xr-has-index {\n",
       "  font-weight: bold;\n",
       "}\n",
       "\n",
       ".xr-var-list,\n",
       ".xr-var-item {\n",
       "  display: contents;\n",
       "}\n",
       "\n",
       ".xr-var-item > div,\n",
       ".xr-var-item label,\n",
       ".xr-var-item > .xr-var-name span {\n",
       "  background-color: var(--xr-background-color-row-even);\n",
       "  margin-bottom: 0;\n",
       "}\n",
       "\n",
       ".xr-var-item > .xr-var-name:hover span {\n",
       "  padding-right: 5px;\n",
       "}\n",
       "\n",
       ".xr-var-list > li:nth-child(odd) > div,\n",
       ".xr-var-list > li:nth-child(odd) > label,\n",
       ".xr-var-list > li:nth-child(odd) > .xr-var-name span {\n",
       "  background-color: var(--xr-background-color-row-odd);\n",
       "}\n",
       "\n",
       ".xr-var-name {\n",
       "  grid-column: 1;\n",
       "}\n",
       "\n",
       ".xr-var-dims {\n",
       "  grid-column: 2;\n",
       "}\n",
       "\n",
       ".xr-var-dtype {\n",
       "  grid-column: 3;\n",
       "  text-align: right;\n",
       "  color: var(--xr-font-color2);\n",
       "}\n",
       "\n",
       ".xr-var-preview {\n",
       "  grid-column: 4;\n",
       "}\n",
       "\n",
       ".xr-index-preview {\n",
       "  grid-column: 2 / 5;\n",
       "  color: var(--xr-font-color2);\n",
       "}\n",
       "\n",
       ".xr-var-name,\n",
       ".xr-var-dims,\n",
       ".xr-var-dtype,\n",
       ".xr-preview,\n",
       ".xr-attrs dt {\n",
       "  white-space: nowrap;\n",
       "  overflow: hidden;\n",
       "  text-overflow: ellipsis;\n",
       "  padding-right: 10px;\n",
       "}\n",
       "\n",
       ".xr-var-name:hover,\n",
       ".xr-var-dims:hover,\n",
       ".xr-var-dtype:hover,\n",
       ".xr-attrs dt:hover {\n",
       "  overflow: visible;\n",
       "  width: auto;\n",
       "  z-index: 1;\n",
       "}\n",
       "\n",
       ".xr-var-attrs,\n",
       ".xr-var-data,\n",
       ".xr-index-data {\n",
       "  display: none;\n",
       "  background-color: var(--xr-background-color) !important;\n",
       "  padding-bottom: 5px !important;\n",
       "}\n",
       "\n",
       ".xr-var-attrs-in:checked ~ .xr-var-attrs,\n",
       ".xr-var-data-in:checked ~ .xr-var-data,\n",
       ".xr-index-data-in:checked ~ .xr-index-data {\n",
       "  display: block;\n",
       "}\n",
       "\n",
       ".xr-var-data > table {\n",
       "  float: right;\n",
       "}\n",
       "\n",
       ".xr-var-name span,\n",
       ".xr-var-data,\n",
       ".xr-index-name div,\n",
       ".xr-index-data,\n",
       ".xr-attrs {\n",
       "  padding-left: 25px !important;\n",
       "}\n",
       "\n",
       ".xr-attrs,\n",
       ".xr-var-attrs,\n",
       ".xr-var-data,\n",
       ".xr-index-data {\n",
       "  grid-column: 1 / -1;\n",
       "}\n",
       "\n",
       "dl.xr-attrs {\n",
       "  padding: 0;\n",
       "  margin: 0;\n",
       "  display: grid;\n",
       "  grid-template-columns: 125px auto;\n",
       "}\n",
       "\n",
       ".xr-attrs dt,\n",
       ".xr-attrs dd {\n",
       "  padding: 0;\n",
       "  margin: 0;\n",
       "  float: left;\n",
       "  padding-right: 10px;\n",
       "  width: auto;\n",
       "}\n",
       "\n",
       ".xr-attrs dt {\n",
       "  font-weight: normal;\n",
       "  grid-column: 1;\n",
       "}\n",
       "\n",
       ".xr-attrs dt:hover span {\n",
       "  display: inline-block;\n",
       "  background: var(--xr-background-color);\n",
       "  padding-right: 10px;\n",
       "}\n",
       "\n",
       ".xr-attrs dd {\n",
       "  grid-column: 2;\n",
       "  white-space: pre-wrap;\n",
       "  word-break: break-all;\n",
       "}\n",
       "\n",
       ".xr-icon-database,\n",
       ".xr-icon-file-text2,\n",
       ".xr-no-icon {\n",
       "  display: inline-block;\n",
       "  vertical-align: middle;\n",
       "  width: 1em;\n",
       "  height: 1.5em !important;\n",
       "  stroke-width: 0;\n",
       "  stroke: currentColor;\n",
       "  fill: currentColor;\n",
       "}\n",
       "</style><pre class='xr-text-repr-fallback'>&lt;xarray.DataArray &#x27;product&#x27; (plants: 2, quantity: 2, price level: 2)&gt;\n",
       "array([[[&#x27;apple&#x27;, &#x27;orange&#x27;],\n",
       "        [&#x27;apple&#x27;, &#x27;orange&#x27;]],\n",
       "\n",
       "       [[&#x27;peppers&#x27;, &#x27;carrot&#x27;],\n",
       "        [&#x27;peppers&#x27;, &#x27;carrot&#x27;]]], dtype=object)\n",
       "Coordinates:\n",
       "  * plants       (plants) object &#x27;fruit&#x27; &#x27;vegetable&#x27;\n",
       "  * quantity     (quantity) object &#x27;1 kg&#x27; &#x27;10 kg&#x27;\n",
       "  * price level  (price level) object &#x27;low&#x27; &#x27;high&#x27;\n",
       "    plts         (plants) object &#x27;fr&#x27; &#x27;ve&#x27;\n",
       "Attributes:\n",
       "    valid:    ok</pre><div class='xr-wrap' style='display:none'><div class='xr-header'><div class='xr-obj-type'>xarray.DataArray</div><div class='xr-array-name'>'product'</div><ul class='xr-dim-list'><li><span class='xr-has-index'>plants</span>: 2</li><li><span class='xr-has-index'>quantity</span>: 2</li><li><span class='xr-has-index'>price level</span>: 2</li></ul></div><ul class='xr-sections'><li class='xr-section-item'><div class='xr-array-wrap'><input id='section-6aaaf4c6-71b0-4d7f-abc4-39cdbe9ab3bd' class='xr-array-in' type='checkbox' checked><label for='section-6aaaf4c6-71b0-4d7f-abc4-39cdbe9ab3bd' title='Show/hide data repr'><svg class='icon xr-icon-database'><use xlink:href='#icon-database'></use></svg></label><div class='xr-array-preview xr-preview'><span>&#x27;apple&#x27; &#x27;orange&#x27; &#x27;apple&#x27; &#x27;orange&#x27; ... &#x27;carrot&#x27; &#x27;peppers&#x27; &#x27;carrot&#x27;</span></div><div class='xr-array-data'><pre>array([[[&#x27;apple&#x27;, &#x27;orange&#x27;],\n",
       "        [&#x27;apple&#x27;, &#x27;orange&#x27;]],\n",
       "\n",
       "       [[&#x27;peppers&#x27;, &#x27;carrot&#x27;],\n",
       "        [&#x27;peppers&#x27;, &#x27;carrot&#x27;]]], dtype=object)</pre></div></div></li><li class='xr-section-item'><input id='section-1d1f469c-f520-4f1d-86d2-4199b0aaee22' class='xr-section-summary-in' type='checkbox'  checked><label for='section-1d1f469c-f520-4f1d-86d2-4199b0aaee22' class='xr-section-summary' >Coordinates: <span>(4)</span></label><div class='xr-section-inline-details'></div><div class='xr-section-details'><ul class='xr-var-list'><li class='xr-var-item'><div class='xr-var-name'><span class='xr-has-index'>plants</span></div><div class='xr-var-dims'>(plants)</div><div class='xr-var-dtype'>object</div><div class='xr-var-preview xr-preview'>&#x27;fruit&#x27; &#x27;vegetable&#x27;</div><input id='attrs-4dace99d-f15a-4478-813f-2e5751b9a175' class='xr-var-attrs-in' type='checkbox' disabled><label for='attrs-4dace99d-f15a-4478-813f-2e5751b9a175' title='Show/Hide attributes'><svg class='icon xr-icon-file-text2'><use xlink:href='#icon-file-text2'></use></svg></label><input id='data-dba61104-1d6c-4033-be18-f3f13df5d816' class='xr-var-data-in' type='checkbox'><label for='data-dba61104-1d6c-4033-be18-f3f13df5d816' title='Show/Hide data repr'><svg class='icon xr-icon-database'><use xlink:href='#icon-database'></use></svg></label><div class='xr-var-attrs'><dl class='xr-attrs'></dl></div><div class='xr-var-data'><pre>array([&#x27;fruit&#x27;, &#x27;vegetable&#x27;], dtype=object)</pre></div></li><li class='xr-var-item'><div class='xr-var-name'><span class='xr-has-index'>quantity</span></div><div class='xr-var-dims'>(quantity)</div><div class='xr-var-dtype'>object</div><div class='xr-var-preview xr-preview'>&#x27;1 kg&#x27; &#x27;10 kg&#x27;</div><input id='attrs-b62a27f5-0266-45ba-82d1-f9a008dd4f6e' class='xr-var-attrs-in' type='checkbox' disabled><label for='attrs-b62a27f5-0266-45ba-82d1-f9a008dd4f6e' title='Show/Hide attributes'><svg class='icon xr-icon-file-text2'><use xlink:href='#icon-file-text2'></use></svg></label><input id='data-b8a818ce-248c-4883-ac96-5572019a3332' class='xr-var-data-in' type='checkbox'><label for='data-b8a818ce-248c-4883-ac96-5572019a3332' title='Show/Hide data repr'><svg class='icon xr-icon-database'><use xlink:href='#icon-database'></use></svg></label><div class='xr-var-attrs'><dl class='xr-attrs'></dl></div><div class='xr-var-data'><pre>array([&#x27;1 kg&#x27;, &#x27;10 kg&#x27;], dtype=object)</pre></div></li><li class='xr-var-item'><div class='xr-var-name'><span class='xr-has-index'>price level</span></div><div class='xr-var-dims'>(price level)</div><div class='xr-var-dtype'>object</div><div class='xr-var-preview xr-preview'>&#x27;low&#x27; &#x27;high&#x27;</div><input id='attrs-7b371e32-6917-445a-9a99-2c5c7647a3c7' class='xr-var-attrs-in' type='checkbox' disabled><label for='attrs-7b371e32-6917-445a-9a99-2c5c7647a3c7' title='Show/Hide attributes'><svg class='icon xr-icon-file-text2'><use xlink:href='#icon-file-text2'></use></svg></label><input id='data-a4971bf7-5462-4224-9250-104ed4f445d6' class='xr-var-data-in' type='checkbox'><label for='data-a4971bf7-5462-4224-9250-104ed4f445d6' title='Show/Hide data repr'><svg class='icon xr-icon-database'><use xlink:href='#icon-database'></use></svg></label><div class='xr-var-attrs'><dl class='xr-attrs'></dl></div><div class='xr-var-data'><pre>array([&#x27;low&#x27;, &#x27;high&#x27;], dtype=object)</pre></div></li><li class='xr-var-item'><div class='xr-var-name'><span>plts</span></div><div class='xr-var-dims'>(plants)</div><div class='xr-var-dtype'>object</div><div class='xr-var-preview xr-preview'>&#x27;fr&#x27; &#x27;ve&#x27;</div><input id='attrs-85e7ad08-dc97-41ff-801e-21b0e789dc4a' class='xr-var-attrs-in' type='checkbox' disabled><label for='attrs-85e7ad08-dc97-41ff-801e-21b0e789dc4a' title='Show/Hide attributes'><svg class='icon xr-icon-file-text2'><use xlink:href='#icon-file-text2'></use></svg></label><input id='data-8e798f2e-0ccd-4083-8ea3-3415e6b6ad1e' class='xr-var-data-in' type='checkbox'><label for='data-8e798f2e-0ccd-4083-8ea3-3415e6b6ad1e' title='Show/Hide data repr'><svg class='icon xr-icon-database'><use xlink:href='#icon-database'></use></svg></label><div class='xr-var-attrs'><dl class='xr-attrs'></dl></div><div class='xr-var-data'><pre>array([&#x27;fr&#x27;, &#x27;ve&#x27;], dtype=object)</pre></div></li></ul></div></li><li class='xr-section-item'><input id='section-18bb11b9-70aa-4009-aa5a-9c6cae3975d1' class='xr-section-summary-in' type='checkbox'  ><label for='section-18bb11b9-70aa-4009-aa5a-9c6cae3975d1' class='xr-section-summary' >Indexes: <span>(3)</span></label><div class='xr-section-inline-details'></div><div class='xr-section-details'><ul class='xr-var-list'><li class='xr-var-item'><div class='xr-index-name'><div>plants</div></div><div class='xr-index-preview'>PandasIndex</div><div></div><input id='index-5564cb78-b84d-490e-83ca-dac744dbb832' class='xr-index-data-in' type='checkbox'/><label for='index-5564cb78-b84d-490e-83ca-dac744dbb832' title='Show/Hide index repr'><svg class='icon xr-icon-database'><use xlink:href='#icon-database'></use></svg></label><div class='xr-index-data'><pre>PandasIndex(Index([&#x27;fruit&#x27;, &#x27;vegetable&#x27;], dtype=&#x27;object&#x27;, name=&#x27;plants&#x27;))</pre></div></li><li class='xr-var-item'><div class='xr-index-name'><div>quantity</div></div><div class='xr-index-preview'>PandasIndex</div><div></div><input id='index-ac2a1375-c3ac-4eee-aa9b-2c966894c79d' class='xr-index-data-in' type='checkbox'/><label for='index-ac2a1375-c3ac-4eee-aa9b-2c966894c79d' title='Show/Hide index repr'><svg class='icon xr-icon-database'><use xlink:href='#icon-database'></use></svg></label><div class='xr-index-data'><pre>PandasIndex(Index([&#x27;1 kg&#x27;, &#x27;10 kg&#x27;], dtype=&#x27;object&#x27;, name=&#x27;quantity&#x27;))</pre></div></li><li class='xr-var-item'><div class='xr-index-name'><div>price level</div></div><div class='xr-index-preview'>PandasIndex</div><div></div><input id='index-7aab56db-ca9a-43ee-b6c0-545c7e52afa6' class='xr-index-data-in' type='checkbox'/><label for='index-7aab56db-ca9a-43ee-b6c0-545c7e52afa6' title='Show/Hide index repr'><svg class='icon xr-icon-database'><use xlink:href='#icon-database'></use></svg></label><div class='xr-index-data'><pre>PandasIndex(Index([&#x27;low&#x27;, &#x27;high&#x27;], dtype=&#x27;object&#x27;, name=&#x27;price level&#x27;))</pre></div></li></ul></div></li><li class='xr-section-item'><input id='section-8132a0b1-3f56-4be0-a880-678f9b31aa66' class='xr-section-summary-in' type='checkbox'  checked><label for='section-8132a0b1-3f56-4be0-a880-678f9b31aa66' class='xr-section-summary' >Attributes: <span>(1)</span></label><div class='xr-section-inline-details'></div><div class='xr-section-details'><dl class='xr-attrs'><dt><span>valid :</span></dt><dd>ok</dd></dl></div></li></ul></div></div>"
      ],
      "text/plain": [
       "<xarray.DataArray 'product' (plants: 2, quantity: 2, price level: 2)>\n",
       "array([[['apple', 'orange'],\n",
       "        ['apple', 'orange']],\n",
       "\n",
       "       [['peppers', 'carrot'],\n",
       "        ['peppers', 'carrot']]], dtype=object)\n",
       "Coordinates:\n",
       "  * plants       (plants) object 'fruit' 'vegetable'\n",
       "  * quantity     (quantity) object '1 kg' '10 kg'\n",
       "  * price level  (price level) object 'low' 'high'\n",
       "    plts         (plants) object 'fr' 've'\n",
       "Attributes:\n",
       "    valid:    ok"
      ]
     },
     "execution_count": 9,
     "metadata": {},
     "output_type": "execute_result"
    }
   ],
   "source": [
    "dts.to_xarray()"
   ]
  },
  {
   "cell_type": "code",
   "execution_count": 10,
   "id": "773595eb",
   "metadata": {
    "scrolled": true
   },
   "outputs": [
    {
     "data": {
      "text/plain": [
       "{'primary': ['product', 'quantity'],\n",
       " 'secondary': ['plants', 'plts', 'price level'],\n",
       " 'unique': ['valid'],\n",
       " 'variable': ['price', 'group', 'id', 'supplier', 'location']}"
      ]
     },
     "execution_count": 10,
     "metadata": {},
     "output_type": "execute_result"
    }
   ],
   "source": [
    "adts.field_partition(mode='id', partition=['product', 'quantity'])"
   ]
  },
  {
   "cell_type": "code",
   "execution_count": 12,
   "id": "aef776bd",
   "metadata": {},
   "outputs": [
    {
     "ename": "IndexError",
     "evalue": "list index out of range",
     "output_type": "error",
     "traceback": [
      "\u001b[1;31m---------------------------------------------------------------------------\u001b[0m",
      "\u001b[1;31mIndexError\u001b[0m                                Traceback (most recent call last)",
      "\u001b[1;32m~\\AppData\\Local\\Temp\\ipykernel_16416\\1273827419.py\u001b[0m in \u001b[0;36m<module>\u001b[1;34m\u001b[0m\n\u001b[1;32m----> 1\u001b[1;33m \u001b[0mdts\u001b[0m\u001b[1;33m.\u001b[0m\u001b[0mto_xarray\u001b[0m\u001b[1;33m(\u001b[0m\u001b[0midxname\u001b[0m\u001b[1;33m=\u001b[0m\u001b[1;33m[\u001b[0m\u001b[1;34m'product'\u001b[0m\u001b[1;33m,\u001b[0m \u001b[1;34m'quantity'\u001b[0m\u001b[1;33m]\u001b[0m\u001b[1;33m)\u001b[0m\u001b[1;33m\u001b[0m\u001b[1;33m\u001b[0m\u001b[0m\n\u001b[0m",
      "\u001b[1;32mD:\\philippe\\python ESstandard\\tab-dataset\\tab_dataset\\dataset_interface.py\u001b[0m in \u001b[0;36mto_xarray\u001b[1;34m(self, info, idxname, varname, fillvalue, fillextern, lisfunc, name, numeric, npdtype, attrs, coord, **kwargs)\u001b[0m\n\u001b[0;32m    284\u001b[0m                 \u001b[0mlisfunc\u001b[0m\u001b[1;33m[\u001b[0m\u001b[0mivar\u001b[0m\u001b[1;33m]\u001b[0m \u001b[1;33m=\u001b[0m \u001b[0mfuncvar\u001b[0m\u001b[1;33m\u001b[0m\u001b[1;33m\u001b[0m\u001b[0m\n\u001b[0;32m    285\u001b[0m         \u001b[0mlisfuncname\u001b[0m \u001b[1;33m=\u001b[0m \u001b[0mdict\u001b[0m\u001b[1;33m(\u001b[0m\u001b[0mzip\u001b[0m\u001b[1;33m(\u001b[0m\u001b[0milf\u001b[0m\u001b[1;33m.\u001b[0m\u001b[0mlname\u001b[0m\u001b[1;33m,\u001b[0m \u001b[0mlisfunc\u001b[0m\u001b[1;33m)\u001b[0m\u001b[1;33m)\u001b[0m\u001b[1;33m\u001b[0m\u001b[1;33m\u001b[0m\u001b[0m\n\u001b[1;32m--> 286\u001b[1;33m         \u001b[0mcoords\u001b[0m \u001b[1;33m=\u001b[0m \u001b[0milf\u001b[0m\u001b[1;33m.\u001b[0m\u001b[0m_xcoord\u001b[0m\u001b[1;33m(\u001b[0m\u001b[0midxname\u001b[0m\u001b[1;33m,\u001b[0m \u001b[0mivar\u001b[0m\u001b[1;33m,\u001b[0m \u001b[0mlisfuncname\u001b[0m\u001b[1;33m,\u001b[0m \u001b[0mcoord\u001b[0m\u001b[1;33m,\u001b[0m \u001b[1;33m**\u001b[0m\u001b[0moption\u001b[0m\u001b[1;33m)\u001b[0m\u001b[1;33m\u001b[0m\u001b[1;33m\u001b[0m\u001b[0m\n\u001b[0m\u001b[0;32m    287\u001b[0m         \u001b[0mdims\u001b[0m \u001b[1;33m=\u001b[0m \u001b[0midxname\u001b[0m\u001b[1;33m\u001b[0m\u001b[1;33m\u001b[0m\u001b[0m\n\u001b[0;32m    288\u001b[0m         \u001b[1;32mif\u001b[0m \u001b[0mnumeric\u001b[0m\u001b[1;33m:\u001b[0m\u001b[1;33m\u001b[0m\u001b[1;33m\u001b[0m\u001b[0m\n",
      "\u001b[1;32mD:\\philippe\\python ESstandard\\tab-dataset\\tab_dataset\\dataset_interface.py\u001b[0m in \u001b[0;36m_xcoord\u001b[1;34m(self, axename, ivar, lisfuncname, coord, **kwargs)\u001b[0m\n\u001b[0;32m    488\u001b[0m             \u001b[1;32melse\u001b[0m\u001b[1;33m:\u001b[0m\u001b[1;33m\u001b[0m\u001b[1;33m\u001b[0m\u001b[0m\n\u001b[0;32m    489\u001b[0m                 \u001b[0mascendants\u001b[0m \u001b[1;33m=\u001b[0m \u001b[0mself\u001b[0m\u001b[1;33m.\u001b[0m\u001b[0manalysis\u001b[0m\u001b[1;33m.\u001b[0m\u001b[0mfields\u001b[0m\u001b[1;33m[\u001b[0m\u001b[0mi\u001b[0m\u001b[1;33m]\u001b[0m\u001b[1;33m.\u001b[0m\u001b[0mascendants\u001b[0m\u001b[1;33m(\u001b[0m\u001b[1;34m'derived'\u001b[0m\u001b[1;33m,\u001b[0m \u001b[1;34m'index'\u001b[0m\u001b[1;33m)\u001b[0m\u001b[1;33m\u001b[0m\u001b[1;33m\u001b[0m\u001b[0m\n\u001b[1;32m--> 490\u001b[1;33m                 \u001b[0mp_prim\u001b[0m \u001b[1;33m=\u001b[0m \u001b[1;33m[\u001b[0m\u001b[0mind\u001b[0m \u001b[1;32mfor\u001b[0m \u001b[0mind\u001b[0m \u001b[1;32min\u001b[0m \u001b[0mascendants\u001b[0m \u001b[1;32mif\u001b[0m \u001b[0mself\u001b[0m\u001b[1;33m.\u001b[0m\u001b[0mlname\u001b[0m\u001b[1;33m[\u001b[0m\u001b[0mind\u001b[0m\u001b[1;33m]\u001b[0m \u001b[1;32min\u001b[0m \u001b[0maxename\u001b[0m\u001b[1;33m]\u001b[0m\u001b[1;33m[\u001b[0m\u001b[1;36m0\u001b[0m\u001b[1;33m]\u001b[0m\u001b[1;33m\u001b[0m\u001b[1;33m\u001b[0m\u001b[0m\n\u001b[0m\u001b[0;32m    491\u001b[0m                 \u001b[1;31m#p_prim = self.analysis.fields[i].ascendants('derived', 'index')[-1]\u001b[0m\u001b[1;33m\u001b[0m\u001b[1;33m\u001b[0m\u001b[0m\n\u001b[0;32m    492\u001b[0m                 \u001b[0mself\u001b[0m\u001b[1;33m.\u001b[0m\u001b[0mlindex\u001b[0m\u001b[1;33m[\u001b[0m\u001b[0mi\u001b[0m\u001b[1;33m]\u001b[0m\u001b[1;33m.\u001b[0m\u001b[0msetkeys\u001b[0m\u001b[1;33m(\u001b[0m\u001b[0mself\u001b[0m\u001b[1;33m.\u001b[0m\u001b[0mlindex\u001b[0m\u001b[1;33m[\u001b[0m\u001b[0mp_prim\u001b[0m\u001b[1;33m]\u001b[0m\u001b[1;33m.\u001b[0m\u001b[0mkeys\u001b[0m\u001b[1;33m)\u001b[0m  \u001b[1;31m# !!!\u001b[0m\u001b[1;33m\u001b[0m\u001b[1;33m\u001b[0m\u001b[0m\n",
      "\u001b[1;31mIndexError\u001b[0m: list index out of range"
     ]
    }
   ],
   "source": [
    "dts.to_xarray(idxname=['product', 'quantity'])"
   ]
  }
 ],
 "metadata": {
  "kernelspec": {
   "display_name": "Python 3 (ipykernel)",
   "language": "python",
   "name": "python3"
  },
  "language_info": {
   "codemirror_mode": {
    "name": "ipython",
    "version": 3
   },
   "file_extension": ".py",
   "mimetype": "text/x-python",
   "name": "python",
   "nbconvert_exporter": "python",
   "pygments_lexer": "ipython3",
   "version": "3.10.9"
  }
 },
 "nbformat": 4,
 "nbformat_minor": 5
}

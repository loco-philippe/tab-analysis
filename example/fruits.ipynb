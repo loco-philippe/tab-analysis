{
 "cells": [
  {
   "cell_type": "markdown",
   "id": "15e8a4ac",
   "metadata": {},
   "source": [
    "# Analysis : Example\n",
    "\n",
    "----\n",
    "## Goal\n",
    "- show on a simple example the main uses of the analysis module for tabular data\n",
    "\n",
    "## Presentation of the example\n",
    "Let's take the example of a csv file containing the price of some fruits and vegetables.\n",
    "\n",
    "|product|plants   |plts |quantity|price|price level|group  |id   |supplier|location|valid|\n",
    "|:-----:|:-------:|:---:|:-----:|:----:|:---------:|:-----:|:---:|:------:|:------:|:---:|\n",
    "|apple  |fruit\t  |fr   |1 kg\t|1\t   |low        |fruit1 |1001 |sup1    |fr      |ok   |\n",
    "|apple  |fruit\t  |fr   |10 kg\t|10    |low        |fruit10|1002 |sup1    |gb      |ok   |\n",
    "|orange |fruit\t  |fr   |1 kg   |2     |high       |fruit1 |1003 |sup1    |es      |ok   |\n",
    "|orange |fruit\t  |fr   |10 kg\t|20\t   |high       |veget  |1004 |sup2    |ch      |ok   |\n",
    "|peppers|vegetable|ve   |1 kg\t|1.5   |low        |veget  |1005 |sup2    |gb      |ok   |\n",
    "|peppers|vegetable|ve   |10 kg  |15    |low        |veget  |1006 |sup2    |fr      |ok   |\n",
    "|carrot |vegetable|ve   |1 kg\t|1.5   |high       |veget  |1007 |sup2    |es      |ok   |\n",
    "|carrot |vegetable|ve   |10 kg\t|20    |high       |veget  |1008 |sup1    |ch      |ok   |\n",
    "\n",
    "\n",
    "The price is different depending on the product and the packaging of 1 or 10 kg."
   ]
  },
  {
   "cell_type": "code",
   "execution_count": 1,
   "id": "acfac615",
   "metadata": {},
   "outputs": [],
   "source": [
    "fruits = {\n",
    "    \"plants\": [\n",
    "        \"fruit\",\n",
    "        \"fruit\",\n",
    "        \"fruit\",\n",
    "        \"fruit\",\n",
    "        \"vegetable\",\n",
    "        \"vegetable\",\n",
    "        \"vegetable\",\n",
    "        \"vegetable\",\n",
    "    ],\n",
    "    \"plts\": [\"fr\", \"fr\", \"fr\", \"fr\", \"ve\", \"ve\", \"ve\", \"ve\"],\n",
    "    \"quantity\": [\"1 kg\", \"10 kg\", \"1 kg\", \"10 kg\", \"1 kg\", \"10 kg\", \"1 kg\", \"10 kg\"],\n",
    "    \"product\": [\n",
    "        \"apple\",\n",
    "        \"apple\",\n",
    "        \"orange\",\n",
    "        \"orange\",\n",
    "        \"peppers\",\n",
    "        \"peppers\",\n",
    "        \"carrot\",\n",
    "        \"carrot\",\n",
    "    ],\n",
    "    \"price\": [1, 10, 2, 20, 1.5, 15, 1.5, 20],\n",
    "    \"price level\": [\"low\", \"low\", \"high\", \"high\", \"low\", \"low\", \"high\", \"high\"],\n",
    "    \"group\": [\n",
    "        \"fruit 1\",\n",
    "        \"fruit 10\",\n",
    "        \"fruit 1\",\n",
    "        \"veget\",\n",
    "        \"veget\",\n",
    "        \"veget\",\n",
    "        \"veget\",\n",
    "        \"veget\",\n",
    "    ],\n",
    "    \"id\": [1001, 1002, 1003, 1004, 1005, 1006, 1007, 1008],\n",
    "    \"supplier\": [\"sup1\", \"sup1\", \"sup1\", \"sup2\", \"sup2\", \"sup2\", \"sup2\", \"sup1\"],\n",
    "    \"location\": [\"fr\", \"gb\", \"es\", \"ch\", \"gb\", \"fr\", \"es\", \"ch\"],\n",
    "    \"valid\": [\"ok\", \"ok\", \"ok\", \"ok\", \"ok\", \"ok\", \"ok\", \"ok\"],\n",
    "}"
   ]
  },
  {
   "cell_type": "code",
   "execution_count": 2,
   "id": "020d0997",
   "metadata": {},
   "outputs": [],
   "source": [
    "from tab_dataset import Sdataset\n",
    "\n",
    "dts = Sdataset.ntv(fruits)\n",
    "adts = dts.analysis"
   ]
  },
  {
   "cell_type": "markdown",
   "id": "2fa3a16f",
   "metadata": {},
   "source": [
    "## Relationship\n",
    "Three kind of relationships are present:\n",
    "- coupled : each 'plants' value corresponds to one 'plts' value\n",
    "- derived : each 'product' value is associated to one 'plants' value\n",
    "- crossed : each 'quantity' value is associated to each 'product' value"
   ]
  },
  {
   "cell_type": "code",
   "execution_count": 3,
   "id": "52c868e5",
   "metadata": {},
   "outputs": [
    {
     "name": "stdout",
     "output_type": "stream",
     "text": [
      "coupled\n",
      "derived\n",
      "crossed\n"
     ]
    }
   ],
   "source": [
    "print(adts.get_relation(\"plants\", \"plts\").typecoupl)\n",
    "print(adts.get_relation(\"plants\", \"product\").typecoupl)\n",
    "print(adts.get_relation(\"quantity\", \"product\").typecoupl)"
   ]
  },
  {
   "cell_type": "markdown",
   "id": "57c3c1fb",
   "metadata": {},
   "source": [
    "A relationship can be quantified by a notion of distance (number of codec links to change to be coupled). \n",
    "\n",
    "If a relation is coupled, the distance is null.\n",
    "The maximal distance is the Fields length minus one"
   ]
  },
  {
   "cell_type": "code",
   "execution_count": 4,
   "id": "f1fca268",
   "metadata": {},
   "outputs": [
    {
     "name": "stdout",
     "output_type": "stream",
     "text": [
      "minimum distance:  0\n",
      "maximum distance:  7\n",
      "intermediate distance:  2\n"
     ]
    }
   ],
   "source": [
    "print(\"minimum distance: \", adts.get_relation(\"plants\", \"plts\").distance)\n",
    "print(\"maximum distance: \", adts.get_relation(\"id\", \"valid\").distance)\n",
    "print(\"intermediate distance: \", adts.get_relation(\"plants\", \"product\").distance)\n",
    "# The 'plants' - 'product' relationship will be 'coupled' if we change, for example,\n",
    "#'fruit-orange' in 'citrus-orange' and 'carrot-vegetable' in 'carrot-root vegetable' (2 changes)"
   ]
  },
  {
   "cell_type": "markdown",
   "id": "7f51686d",
   "metadata": {},
   "source": [
    "## Fields\n",
    "Each field has a category based on its relationships with other fields:\n",
    "- rooted : Fields coupled with the root Field\n",
    "- unique : Fields with a single value\n",
    "- coupled : Fields coupled with another Field\n",
    "- derived : Fields without derived child\n",
    "- mixed : other Fields"
   ]
  },
  {
   "cell_type": "code",
   "execution_count": 5,
   "id": "7f6c596d",
   "metadata": {
    "scrolled": true
   },
   "outputs": [
    {
     "name": "stdout",
     "output_type": "stream",
     "text": [
      "['derived', 'coupled', 'derived', 'mixed', 'mixed', 'derived', 'derived', 'rooted', 'derived', 'mixed', 'unique']\n"
     ]
    }
   ],
   "source": [
    "# list of categories for each Field\n",
    "print(adts.category)"
   ]
  },
  {
   "cell_type": "markdown",
   "id": "efc46d69",
   "metadata": {},
   "source": [
    "## Tree\n",
    "A Dataset can be represented with a Field tree where each Field has a parent Field.\n",
    "The parent Field is the derived Field with a minimal 'distance'"
   ]
  },
  {
   "cell_type": "code",
   "execution_count": 6,
   "id": "197a7599",
   "metadata": {
    "scrolled": true
   },
   "outputs": [
    {
     "name": "stdout",
     "output_type": "stream",
     "text": [
      "-1: root-derived (8)\n",
      "   3 : product (4 - 4)\n",
      "      0 : plants (2 - 2)\n",
      "         1 : plts (0 - 2)\n",
      "      5 : price level (2 - 2)\n",
      "   4 : price (2 - 6)\n",
      "      2 : quantity (4 - 2)\n",
      "      6 : group (3 - 3)\n",
      "   7 : id (0 - 8)\n",
      "   8 : supplier (6 - 2)\n",
      "   9 : location (4 - 4)\n",
      "   10: valid (7 - 1)\n"
     ]
    }
   ],
   "source": [
    "print(adts.tree())"
   ]
  },
  {
   "cell_type": "markdown",
   "id": "0a80dc15",
   "metadata": {},
   "source": [
    "## Partitions\n",
    "A partition is a minimum list of Field where combinations are all different in the dataset."
   ]
  },
  {
   "cell_type": "code",
   "execution_count": 7,
   "id": "a39b26b6",
   "metadata": {},
   "outputs": [
    {
     "data": {
      "text/plain": [
       "[['plants', 'price level', 'quantity'],\n",
       " ['price level', 'quantity', 'supplier'],\n",
       " ['location', 'plants'],\n",
       " ['location', 'supplier'],\n",
       " ['product', 'quantity'],\n",
       " ['id']]"
      ]
     },
     "execution_count": 7,
     "metadata": {},
     "output_type": "execute_result"
    }
   ],
   "source": [
    "adts.partitions(mode=\"id\")"
   ]
  },
  {
   "cell_type": "markdown",
   "id": "e4239fd9",
   "metadata": {},
   "source": [
    "The dimension of a Dataset is the highest size of a partition."
   ]
  },
  {
   "cell_type": "code",
   "execution_count": 8,
   "id": "f8e03dc7",
   "metadata": {},
   "outputs": [
    {
     "data": {
      "text/plain": [
       "3"
      ]
     },
     "execution_count": 8,
     "metadata": {},
     "output_type": "execute_result"
    }
   ],
   "source": [
    "adts.dimension"
   ]
  },
  {
   "cell_type": "markdown",
   "id": "ba44318f",
   "metadata": {},
   "source": [
    "The Dataset is composed for a partition of:\n",
    "- primary: partition fields\n",
    "- secondary: fields derived from or coupled to primary fields\n",
    "- unique: unique fields\n",
    "- variable: other fields\n"
   ]
  },
  {
   "cell_type": "code",
   "execution_count": 9,
   "id": "6a8aacbb",
   "metadata": {},
   "outputs": [
    {
     "data": {
      "text/plain": [
       "{'primary': ['plants', 'quantity', 'price level'],\n",
       " 'secondary': ['plts'],\n",
       " 'mixte': ['supplier', 'location', 'product'],\n",
       " 'unique': ['valid'],\n",
       " 'variable': ['price', 'group', 'id']}"
      ]
     },
     "execution_count": 9,
     "metadata": {},
     "output_type": "execute_result"
    }
   ],
   "source": [
    "adts.field_partition(mode=\"id\")"
   ]
  },
  {
   "cell_type": "code",
   "execution_count": 14,
   "id": "cc185ef8-fa0b-4e7d-90e7-a4bb3d088155",
   "metadata": {},
   "outputs": [
    {
     "data": {
      "text/plain": [
       "{'plants': ['plants'],\n",
       " 'quantity': ['quantity'],\n",
       " 'price level': ['price level'],\n",
       " 'plts': ['plants'],\n",
       " 'supplier': [],\n",
       " 'location': ['price level'],\n",
       " 'product': ['plants', 'price level'],\n",
       " 'valid': [],\n",
       " 'price': ['plants', 'quantity', 'price level'],\n",
       " 'group': ['plants', 'quantity', 'price level'],\n",
       " 'id': ['plants', 'quantity', 'price level']}"
      ]
     },
     "execution_count": 14,
     "metadata": {},
     "output_type": "execute_result"
    }
   ],
   "source": [
    "adts.relation_partition()"
   ]
  },
  {
   "cell_type": "code",
   "execution_count": 10,
   "id": "3bf0fae3",
   "metadata": {
    "scrolled": true
   },
   "outputs": [
    {
     "data": {
      "text/plain": [
       "{'primary': ['product', 'quantity'],\n",
       " 'secondary': ['plants', 'plts', 'price level'],\n",
       " 'mixte': ['supplier', 'location'],\n",
       " 'unique': ['valid'],\n",
       " 'variable': ['price', 'group', 'id']}"
      ]
     },
     "execution_count": 10,
     "metadata": {},
     "output_type": "execute_result"
    }
   ],
   "source": [
    "adts.field_partition(mode=\"id\", partition=[\"product\", \"quantity\"])"
   ]
  },
  {
   "cell_type": "code",
   "execution_count": 13,
   "id": "505e046f-17fe-4bbd-9ebb-6d8a740acf7d",
   "metadata": {},
   "outputs": [
    {
     "data": {
      "text/plain": [
       "{'product': ['product'],\n",
       " 'quantity': ['quantity'],\n",
       " 'plants': ['product'],\n",
       " 'plts': ['plants'],\n",
       " 'price level': ['product'],\n",
       " 'supplier': [],\n",
       " 'location': [],\n",
       " 'valid': [],\n",
       " 'price': ['product', 'quantity'],\n",
       " 'group': ['product', 'quantity'],\n",
       " 'id': ['product', 'quantity']}"
      ]
     },
     "execution_count": 13,
     "metadata": {},
     "output_type": "execute_result"
    }
   ],
   "source": [
    "adts.relation_partition(partition=[\"product\", \"quantity\"])"
   ]
  },
  {
   "cell_type": "markdown",
   "id": "a2596b29",
   "metadata": {},
   "source": [
    "## Use of Partitions\n",
    "For a partition, a Dataset can be converted into a multi-dimensional entity. "
   ]
  },
  {
   "cell_type": "code",
   "execution_count": 11,
   "id": "0a08fffa",
   "metadata": {
    "scrolled": true
   },
   "outputs": [
    {
     "ename": "IndexError",
     "evalue": "list index out of range",
     "output_type": "error",
     "traceback": [
      "\u001b[1;31m---------------------------------------------------------------------------\u001b[0m",
      "\u001b[1;31mIndexError\u001b[0m                                Traceback (most recent call last)",
      "Cell \u001b[1;32mIn[11], line 1\u001b[0m\n\u001b[1;32m----> 1\u001b[0m \u001b[43mdts\u001b[49m\u001b[38;5;241;43m.\u001b[39;49m\u001b[43mto_xarray\u001b[49m\u001b[43m(\u001b[49m\u001b[43m)\u001b[49m\n",
      "File \u001b[1;32m~\\github\\tab-dataset\\tab_dataset\\dataset_interface.py:286\u001b[0m, in \u001b[0;36mDatasetInterface.to_xarray\u001b[1;34m(self, info, idxname, varname, fillvalue, fillextern, lisfunc, name, numeric, npdtype, attrs, coord, **kwargs)\u001b[0m\n\u001b[0;32m    284\u001b[0m         lisfunc[ivar] \u001b[38;5;241m=\u001b[39m funcvar\n\u001b[0;32m    285\u001b[0m lisfuncname \u001b[38;5;241m=\u001b[39m \u001b[38;5;28mdict\u001b[39m(\u001b[38;5;28mzip\u001b[39m(ilf\u001b[38;5;241m.\u001b[39mlname, lisfunc))\n\u001b[1;32m--> 286\u001b[0m coords \u001b[38;5;241m=\u001b[39m \u001b[43milf\u001b[49m\u001b[38;5;241;43m.\u001b[39;49m\u001b[43m_xcoord\u001b[49m\u001b[43m(\u001b[49m\u001b[43midxname\u001b[49m\u001b[43m,\u001b[49m\u001b[43m \u001b[49m\u001b[43mivar\u001b[49m\u001b[43m,\u001b[49m\u001b[43m \u001b[49m\u001b[43mlisfuncname\u001b[49m\u001b[43m,\u001b[49m\u001b[43m \u001b[49m\u001b[43mcoord\u001b[49m\u001b[43m,\u001b[49m\u001b[43m \u001b[49m\u001b[38;5;241;43m*\u001b[39;49m\u001b[38;5;241;43m*\u001b[39;49m\u001b[43moption\u001b[49m\u001b[43m)\u001b[49m\n\u001b[0;32m    287\u001b[0m dims \u001b[38;5;241m=\u001b[39m idxname\n\u001b[0;32m    288\u001b[0m \u001b[38;5;28;01mif\u001b[39;00m numeric:\n\u001b[0;32m    289\u001b[0m     \u001b[38;5;66;03m#lisfunc[ivar] = util.cast\u001b[39;00m\n",
      "File \u001b[1;32m~\\github\\tab-dataset\\tab_dataset\\dataset_interface.py:496\u001b[0m, in \u001b[0;36mDatasetInterface._xcoord\u001b[1;34m(self, axename, ivar, lisfuncname, coord, **kwargs)\u001b[0m\n\u001b[0;32m    487\u001b[0m         coords[iname\u001b[38;5;241m+\u001b[39m\u001b[38;5;124m'\u001b[39m\u001b[38;5;124m_str\u001b[39m\u001b[38;5;124m'\u001b[39m] \u001b[38;5;241m=\u001b[39m (iname,\n\u001b[0;32m    488\u001b[0m                                 \u001b[38;5;28mself\u001b[39m\u001b[38;5;241m.\u001b[39mlindex[i]\u001b[38;5;241m.\u001b[39mto_numpy(func\u001b[38;5;241m=\u001b[39m\u001b[38;5;28mstr\u001b[39m, codec\u001b[38;5;241m=\u001b[39m\u001b[38;5;28;01mTrue\u001b[39;00m))\n\u001b[0;32m    489\u001b[0m \u001b[38;5;28;01melse\u001b[39;00m:\n\u001b[0;32m    490\u001b[0m     \u001b[38;5;66;03m#ascendants = self.analysis.fields[i].ascendants('derived', 'index') # !!!!!!\u001b[39;00m\n\u001b[0;32m    491\u001b[0m     \u001b[38;5;66;03m#p_prim = [ind for ind in ascendants if self.lname[ind] in axename][0]\u001b[39;00m\n\u001b[1;32m   (...)\u001b[0m\n\u001b[0;32m    494\u001b[0m     \u001b[38;5;66;03m#coords[iname] = (self.lname[p_prim],\u001b[39;00m\n\u001b[0;32m    495\u001b[0m     \u001b[38;5;66;03m#                 self.lindex[i].to_numpy(func=funci, codec=True, **kwargs))\u001b[39;00m\n\u001b[1;32m--> 496\u001b[0m     f_prim \u001b[38;5;241m=\u001b[39m \u001b[43m[\u001b[49m\u001b[38;5;28;43mself\u001b[39;49m\u001b[38;5;241;43m.\u001b[39;49m\u001b[43mnindex\u001b[49m\u001b[43m(\u001b[49m\u001b[43mname\u001b[49m\u001b[43m)\u001b[49m\u001b[43m \u001b[49m\u001b[38;5;28;43;01mfor\u001b[39;49;00m\u001b[43m \u001b[49m\u001b[43mname\u001b[49m\u001b[43m \u001b[49m\u001b[38;5;129;43;01min\u001b[39;49;00m\u001b[43m \u001b[49m\u001b[43maxename\u001b[49m\u001b[43m \u001b[49m\u001b[38;5;28;43;01mif\u001b[39;49;00m\n\u001b[0;32m    497\u001b[0m \u001b[43m      \u001b[49m\u001b[43mana\u001b[49m\u001b[38;5;241;43m.\u001b[39;49m\u001b[43mget_relation\u001b[49m\u001b[43m(\u001b[49m\u001b[43mi\u001b[49m\u001b[43m,\u001b[49m\u001b[43m \u001b[49m\u001b[43mname\u001b[49m\u001b[43m)\u001b[49m\u001b[38;5;241;43m.\u001b[39;49m\u001b[43mtypecoupl\u001b[49m\u001b[43m \u001b[49m\u001b[38;5;129;43;01min\u001b[39;49;00m\u001b[43m \u001b[49m\u001b[43m[\u001b[49m\u001b[38;5;124;43m'\u001b[39;49m\u001b[38;5;124;43mderived\u001b[39;49m\u001b[38;5;124;43m'\u001b[39;49m\u001b[43m,\u001b[49m\u001b[43m \u001b[49m\u001b[38;5;124;43m'\u001b[39;49m\u001b[38;5;124;43mcoupled\u001b[39;49m\u001b[38;5;124;43m'\u001b[39;49m\u001b[43m]\u001b[49m\u001b[43m]\u001b[49m\u001b[43m[\u001b[49m\u001b[38;5;241;43m0\u001b[39;49m\u001b[43m]\u001b[49m\n\u001b[0;32m    498\u001b[0m     \u001b[38;5;28mself\u001b[39m\u001b[38;5;241m.\u001b[39mlindex[i]\u001b[38;5;241m.\u001b[39msetkeys(f_prim\u001b[38;5;241m.\u001b[39mkeys)  \u001b[38;5;66;03m# !!!\u001b[39;00m\n\u001b[0;32m    499\u001b[0m     coords[iname] \u001b[38;5;241m=\u001b[39m (f_prim\u001b[38;5;241m.\u001b[39mname, \u001b[38;5;28mself\u001b[39m\u001b[38;5;241m.\u001b[39mlindex[i]\u001b[38;5;241m.\u001b[39mto_numpy(\n\u001b[0;32m    500\u001b[0m                                 func\u001b[38;5;241m=\u001b[39mfunci, codec\u001b[38;5;241m=\u001b[39m\u001b[38;5;28;01mTrue\u001b[39;00m, \u001b[38;5;241m*\u001b[39m\u001b[38;5;241m*\u001b[39mkwargs))\n",
      "\u001b[1;31mIndexError\u001b[0m: list index out of range"
     ]
    }
   ],
   "source": [
    "dts.to_xarray()"
   ]
  },
  {
   "cell_type": "code",
   "execution_count": null,
   "id": "49ab3bb4",
   "metadata": {},
   "outputs": [],
   "source": [
    "print(dts.to_xarray(idxname=[\"product\", \"quantity\"]))"
   ]
  }
 ],
 "metadata": {
  "kernelspec": {
   "display_name": "Python 3 (ipykernel)",
   "language": "python",
   "name": "python3"
  },
  "language_info": {
   "codemirror_mode": {
    "name": "ipython",
    "version": 3
   },
   "file_extension": ".py",
   "mimetype": "text/x-python",
   "name": "python",
   "nbconvert_exporter": "python",
   "pygments_lexer": "ipython3",
   "version": "3.11.8"
  }
 },
 "nbformat": 4,
 "nbformat_minor": 5
}
